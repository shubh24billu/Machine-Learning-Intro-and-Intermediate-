{
 "cells": [
  {
   "cell_type": "markdown",
   "id": "e74d9e8c",
   "metadata": {
    "papermill": {
     "duration": 0.006849,
     "end_time": "2022-09-14T12:53:45.780838",
     "exception": false,
     "start_time": "2022-09-14T12:53:45.773989",
     "status": "completed"
    },
    "tags": []
   },
   "source": [
    "**This notebook is an exercise in the [Introduction to Machine Learning](https://www.kaggle.com/learn/intro-to-machine-learning) course.  You can reference the tutorial at [this link](https://www.kaggle.com/dansbecker/model-validation).**\n",
    "\n",
    "---\n"
   ]
  },
  {
   "cell_type": "markdown",
   "id": "4c7cd455",
   "metadata": {
    "papermill": {
     "duration": 0.004295,
     "end_time": "2022-09-14T12:53:45.790945",
     "exception": false,
     "start_time": "2022-09-14T12:53:45.786650",
     "status": "completed"
    },
    "tags": []
   },
   "source": [
    "## Recap\n",
    "You've built a model. In this exercise you will test how good your model is.\n",
    "\n",
    "Run the cell below to set up your coding environment where the previous exercise left off."
   ]
  },
  {
   "cell_type": "code",
   "execution_count": 1,
   "id": "4b7ad605",
   "metadata": {
    "execution": {
     "iopub.execute_input": "2022-09-14T12:53:45.802261Z",
     "iopub.status.busy": "2022-09-14T12:53:45.801492Z",
     "iopub.status.idle": "2022-09-14T12:53:47.262727Z",
     "shell.execute_reply": "2022-09-14T12:53:47.261407Z"
    },
    "papermill": {
     "duration": 1.470779,
     "end_time": "2022-09-14T12:53:47.266184",
     "exception": false,
     "start_time": "2022-09-14T12:53:45.795405",
     "status": "completed"
    },
    "tags": []
   },
   "outputs": [
    {
     "name": "stdout",
     "output_type": "stream",
     "text": [
      "First in-sample predictions: [208500. 181500. 223500. 140000. 250000.]\n",
      "Actual target values for those homes: [208500, 181500, 223500, 140000, 250000]\n",
      "Setup Complete\n"
     ]
    }
   ],
   "source": [
    "# Code you have previously used to load data\n",
    "import pandas as pd\n",
    "from sklearn.tree import DecisionTreeRegressor\n",
    "\n",
    "# Path of the file to read\n",
    "iowa_file_path = '../input/home-data-for-ml-course/train.csv'\n",
    "\n",
    "home_data = pd.read_csv(iowa_file_path)\n",
    "y = home_data.SalePrice\n",
    "feature_columns = ['LotArea', 'YearBuilt', '1stFlrSF', '2ndFlrSF', 'FullBath', 'BedroomAbvGr', 'TotRmsAbvGrd']\n",
    "X = home_data[feature_columns]\n",
    "\n",
    "# Specify Model\n",
    "iowa_model = DecisionTreeRegressor()\n",
    "# Fit Model\n",
    "iowa_model.fit(X, y)\n",
    "\n",
    "print(\"First in-sample predictions:\", iowa_model.predict(X.head()))\n",
    "print(\"Actual target values for those homes:\", y.head().tolist())\n",
    "\n",
    "# Set up code checking\n",
    "from learntools.core import binder\n",
    "binder.bind(globals())\n",
    "from learntools.machine_learning.ex4 import *\n",
    "print(\"Setup Complete\")"
   ]
  },
  {
   "cell_type": "markdown",
   "id": "50e4d6b8",
   "metadata": {
    "papermill": {
     "duration": 0.004035,
     "end_time": "2022-09-14T12:53:47.274827",
     "exception": false,
     "start_time": "2022-09-14T12:53:47.270792",
     "status": "completed"
    },
    "tags": []
   },
   "source": [
    "# Exercises\n",
    "\n",
    "## Step 1: Split Your Data\n",
    "Use the `train_test_split` function to split up your data.\n",
    "\n",
    "Give it the argument `random_state=1` so the `check` functions know what to expect when verifying your code.\n",
    "\n",
    "Recall, your features are loaded in the DataFrame **X** and your target is loaded in **y**.\n"
   ]
  },
  {
   "cell_type": "code",
   "execution_count": 2,
   "id": "57812cac",
   "metadata": {
    "execution": {
     "iopub.execute_input": "2022-09-14T12:53:47.285564Z",
     "iopub.status.busy": "2022-09-14T12:53:47.284869Z",
     "iopub.status.idle": "2022-09-14T12:53:47.301214Z",
     "shell.execute_reply": "2022-09-14T12:53:47.299985Z"
    },
    "papermill": {
     "duration": 0.024564,
     "end_time": "2022-09-14T12:53:47.303614",
     "exception": false,
     "start_time": "2022-09-14T12:53:47.279050",
     "status": "completed"
    },
    "tags": []
   },
   "outputs": [
    {
     "data": {
      "application/javascript": [
       "parent.postMessage({\"jupyterEvent\": \"custom.exercise_interaction\", \"data\": {\"outcomeType\": 1, \"valueTowardsCompletion\": 0.25, \"interactionType\": 1, \"questionType\": 2, \"questionId\": \"1_SplitData\", \"learnToolsVersion\": \"0.3.4\", \"failureMessage\": \"\", \"exceptionClass\": \"\", \"trace\": \"\"}}, \"*\")"
      ],
      "text/plain": [
       "<IPython.core.display.Javascript object>"
      ]
     },
     "metadata": {},
     "output_type": "display_data"
    },
    {
     "data": {
      "text/markdown": [
       "<span style=\"color:#33cc33\">Correct</span>"
      ],
      "text/plain": [
       "Correct"
      ]
     },
     "metadata": {},
     "output_type": "display_data"
    }
   ],
   "source": [
    "# Import the train_test_split function and uncomment\n",
    "from sklearn.model_selection import train_test_split\n",
    "\n",
    "# fill in and uncomment\n",
    "train_X, val_X, train_y, val_y = train_test_split(X,y,random_state=1)\n",
    "\n",
    "# Check your answer\n",
    "step_1.check()"
   ]
  },
  {
   "cell_type": "code",
   "execution_count": 3,
   "id": "11b15ae7",
   "metadata": {
    "execution": {
     "iopub.execute_input": "2022-09-14T12:53:47.315676Z",
     "iopub.status.busy": "2022-09-14T12:53:47.314501Z",
     "iopub.status.idle": "2022-09-14T12:53:47.319832Z",
     "shell.execute_reply": "2022-09-14T12:53:47.318975Z"
    },
    "papermill": {
     "duration": 0.013684,
     "end_time": "2022-09-14T12:53:47.322125",
     "exception": false,
     "start_time": "2022-09-14T12:53:47.308441",
     "status": "completed"
    },
    "tags": []
   },
   "outputs": [],
   "source": [
    "# The lines below will show you a hint or the solution.\n",
    "# step_1.hint() \n",
    "# step_1.solution()\n"
   ]
  },
  {
   "cell_type": "markdown",
   "id": "131f1d08",
   "metadata": {
    "papermill": {
     "duration": 0.004537,
     "end_time": "2022-09-14T12:53:47.331412",
     "exception": false,
     "start_time": "2022-09-14T12:53:47.326875",
     "status": "completed"
    },
    "tags": []
   },
   "source": [
    "## Step 2: Specify and Fit the Model\n",
    "\n",
    "Create a `DecisionTreeRegressor` model and fit it to the relevant data.\n",
    "Set `random_state` to 1 again when creating the model."
   ]
  },
  {
   "cell_type": "code",
   "execution_count": 4,
   "id": "e563c3d6",
   "metadata": {
    "execution": {
     "iopub.execute_input": "2022-09-14T12:53:47.342715Z",
     "iopub.status.busy": "2022-09-14T12:53:47.341964Z",
     "iopub.status.idle": "2022-09-14T12:53:47.370700Z",
     "shell.execute_reply": "2022-09-14T12:53:47.369313Z"
    },
    "papermill": {
     "duration": 0.036946,
     "end_time": "2022-09-14T12:53:47.372945",
     "exception": false,
     "start_time": "2022-09-14T12:53:47.335999",
     "status": "completed"
    },
    "tags": []
   },
   "outputs": [
    {
     "name": "stdout",
     "output_type": "stream",
     "text": [
      "[186500. 184000. 130000.  92000. 164500. 220000. 335000. 144152. 215000.\n",
      " 262000.]\n",
      "[186500. 184000. 130000.  92000. 164500. 220000. 335000. 144152. 215000.\n",
      " 262000.]\n"
     ]
    },
    {
     "data": {
      "application/javascript": [
       "parent.postMessage({\"jupyterEvent\": \"custom.exercise_interaction\", \"data\": {\"outcomeType\": 1, \"valueTowardsCompletion\": 0.25, \"interactionType\": 1, \"questionType\": 2, \"questionId\": \"2_FitModelWithTrain\", \"learnToolsVersion\": \"0.3.4\", \"failureMessage\": \"\", \"exceptionClass\": \"\", \"trace\": \"\"}}, \"*\")"
      ],
      "text/plain": [
       "<IPython.core.display.Javascript object>"
      ]
     },
     "metadata": {},
     "output_type": "display_data"
    },
    {
     "data": {
      "text/markdown": [
       "<span style=\"color:#33cc33\">Correct</span>"
      ],
      "text/plain": [
       "Correct"
      ]
     },
     "metadata": {},
     "output_type": "display_data"
    }
   ],
   "source": [
    "# You imported DecisionTreeRegressor in your last exercise\n",
    "# and that code has been copied to the setup code above. So, no need to\n",
    "# import it again\n",
    "\n",
    "from sklearn.tree import DecisionTreeRegressor\n",
    "\n",
    "# Specify the model\n",
    "iowa_model = DecisionTreeRegressor(random_state=1)\n",
    "\n",
    "# Fit iowa_model with the training data.\n",
    "iowa_model.fit(train_X, train_y)\n",
    "\n",
    "# Check your answer\n",
    "step_2.check()"
   ]
  },
  {
   "cell_type": "code",
   "execution_count": 5,
   "id": "4c2c498f",
   "metadata": {
    "execution": {
     "iopub.execute_input": "2022-09-14T12:53:47.384901Z",
     "iopub.status.busy": "2022-09-14T12:53:47.384467Z",
     "iopub.status.idle": "2022-09-14T12:53:47.388797Z",
     "shell.execute_reply": "2022-09-14T12:53:47.387981Z"
    },
    "papermill": {
     "duration": 0.013053,
     "end_time": "2022-09-14T12:53:47.391080",
     "exception": false,
     "start_time": "2022-09-14T12:53:47.378027",
     "status": "completed"
    },
    "tags": []
   },
   "outputs": [],
   "source": [
    "# step_2.hint()\n",
    "# step_2.solution()"
   ]
  },
  {
   "cell_type": "markdown",
   "id": "a5e7ceaa",
   "metadata": {
    "papermill": {
     "duration": 0.004763,
     "end_time": "2022-09-14T12:53:47.400940",
     "exception": false,
     "start_time": "2022-09-14T12:53:47.396177",
     "status": "completed"
    },
    "tags": []
   },
   "source": [
    "## Step 3: Make Predictions with Validation data\n"
   ]
  },
  {
   "cell_type": "code",
   "execution_count": 6,
   "id": "a6740e6f",
   "metadata": {
    "execution": {
     "iopub.execute_input": "2022-09-14T12:53:47.413248Z",
     "iopub.status.busy": "2022-09-14T12:53:47.412457Z",
     "iopub.status.idle": "2022-09-14T12:53:47.425299Z",
     "shell.execute_reply": "2022-09-14T12:53:47.424437Z"
    },
    "papermill": {
     "duration": 0.021661,
     "end_time": "2022-09-14T12:53:47.427600",
     "exception": false,
     "start_time": "2022-09-14T12:53:47.405939",
     "status": "completed"
    },
    "tags": []
   },
   "outputs": [
    {
     "data": {
      "application/javascript": [
       "parent.postMessage({\"jupyterEvent\": \"custom.exercise_interaction\", \"data\": {\"outcomeType\": 1, \"valueTowardsCompletion\": 0.25, \"interactionType\": 1, \"questionType\": 2, \"questionId\": \"3_ValPreds\", \"learnToolsVersion\": \"0.3.4\", \"failureMessage\": \"\", \"exceptionClass\": \"\", \"trace\": \"\"}}, \"*\")"
      ],
      "text/plain": [
       "<IPython.core.display.Javascript object>"
      ]
     },
     "metadata": {},
     "output_type": "display_data"
    },
    {
     "data": {
      "text/markdown": [
       "<span style=\"color:#33cc33\">Correct</span>"
      ],
      "text/plain": [
       "Correct"
      ]
     },
     "metadata": {},
     "output_type": "display_data"
    }
   ],
   "source": [
    "# Predict with all validation observations\n",
    "val_predictions = iowa_model.predict(val_X)\n",
    "\n",
    "# Check your answer\n",
    "step_3.check()"
   ]
  },
  {
   "cell_type": "code",
   "execution_count": 7,
   "id": "dae1130f",
   "metadata": {
    "execution": {
     "iopub.execute_input": "2022-09-14T12:53:47.440493Z",
     "iopub.status.busy": "2022-09-14T12:53:47.440078Z",
     "iopub.status.idle": "2022-09-14T12:53:47.444774Z",
     "shell.execute_reply": "2022-09-14T12:53:47.443552Z"
    },
    "papermill": {
     "duration": 0.013704,
     "end_time": "2022-09-14T12:53:47.447108",
     "exception": false,
     "start_time": "2022-09-14T12:53:47.433404",
     "status": "completed"
    },
    "tags": []
   },
   "outputs": [],
   "source": [
    "# step_3.hint()\n",
    "# step_3.solution()"
   ]
  },
  {
   "cell_type": "markdown",
   "id": "4ad6b0bc",
   "metadata": {
    "papermill": {
     "duration": 0.004989,
     "end_time": "2022-09-14T12:53:47.457451",
     "exception": false,
     "start_time": "2022-09-14T12:53:47.452462",
     "status": "completed"
    },
    "tags": []
   },
   "source": [
    "Inspect your predictions and actual values from validation data."
   ]
  },
  {
   "cell_type": "code",
   "execution_count": 8,
   "id": "b4dd9330",
   "metadata": {
    "execution": {
     "iopub.execute_input": "2022-09-14T12:53:47.469823Z",
     "iopub.status.busy": "2022-09-14T12:53:47.469407Z",
     "iopub.status.idle": "2022-09-14T12:53:47.477091Z",
     "shell.execute_reply": "2022-09-14T12:53:47.475486Z"
    },
    "papermill": {
     "duration": 0.018358,
     "end_time": "2022-09-14T12:53:47.481025",
     "exception": false,
     "start_time": "2022-09-14T12:53:47.462667",
     "status": "completed"
    },
    "tags": []
   },
   "outputs": [
    {
     "name": "stdout",
     "output_type": "stream",
     "text": [
      "[186500. 184000. 130000.  92000. 164500.]\n",
      "[208500 181500 223500 140000 250000]\n"
     ]
    }
   ],
   "source": [
    "# print the top few validation predictions\n",
    "print(val_predictions[0:5])\n",
    "# print the top few actual prices from validation data\n",
    "print(y.values[0:5])"
   ]
  },
  {
   "cell_type": "markdown",
   "id": "a25192b1",
   "metadata": {
    "papermill": {
     "duration": 0.005089,
     "end_time": "2022-09-14T12:53:47.491786",
     "exception": false,
     "start_time": "2022-09-14T12:53:47.486697",
     "status": "completed"
    },
    "tags": []
   },
   "source": [
    "What do you notice that is different from what you saw with in-sample predictions (which are printed after the top code cell in this page).\n",
    "\n",
    "Do you remember why validation predictions differ from in-sample (or training) predictions? This is an important idea from the last lesson.\n",
    "\n",
    "## Step 4: Calculate the Mean Absolute Error in Validation Data\n"
   ]
  },
  {
   "cell_type": "code",
   "execution_count": 9,
   "id": "5dcb3271",
   "metadata": {
    "execution": {
     "iopub.execute_input": "2022-09-14T12:53:47.504078Z",
     "iopub.status.busy": "2022-09-14T12:53:47.503693Z",
     "iopub.status.idle": "2022-09-14T12:53:47.514204Z",
     "shell.execute_reply": "2022-09-14T12:53:47.513357Z"
    },
    "papermill": {
     "duration": 0.019254,
     "end_time": "2022-09-14T12:53:47.516427",
     "exception": false,
     "start_time": "2022-09-14T12:53:47.497173",
     "status": "completed"
    },
    "tags": []
   },
   "outputs": [
    {
     "data": {
      "application/javascript": [
       "parent.postMessage({\"jupyterEvent\": \"custom.exercise_interaction\", \"data\": {\"outcomeType\": 1, \"valueTowardsCompletion\": 0.25, \"interactionType\": 1, \"questionType\": 1, \"questionId\": \"4_MAE\", \"learnToolsVersion\": \"0.3.4\", \"failureMessage\": \"\", \"exceptionClass\": \"\", \"trace\": \"\"}}, \"*\")"
      ],
      "text/plain": [
       "<IPython.core.display.Javascript object>"
      ]
     },
     "metadata": {},
     "output_type": "display_data"
    },
    {
     "data": {
      "text/markdown": [
       "<span style=\"color:#33cc33\">Correct</span>"
      ],
      "text/plain": [
       "Correct"
      ]
     },
     "metadata": {},
     "output_type": "display_data"
    }
   ],
   "source": [
    "from sklearn.metrics import mean_absolute_error\n",
    "val_mae = mean_absolute_error(val_y, val_predictions)\n",
    "\n",
    "# uncomment following line to see the validation_mae\n",
    "#print(val_mae)\n",
    "\n",
    "# Check your answer\n",
    "step_4.check()"
   ]
  },
  {
   "cell_type": "code",
   "execution_count": 10,
   "id": "f53ec452",
   "metadata": {
    "execution": {
     "iopub.execute_input": "2022-09-14T12:53:47.529042Z",
     "iopub.status.busy": "2022-09-14T12:53:47.528655Z",
     "iopub.status.idle": "2022-09-14T12:53:47.533225Z",
     "shell.execute_reply": "2022-09-14T12:53:47.532013Z"
    },
    "papermill": {
     "duration": 0.013572,
     "end_time": "2022-09-14T12:53:47.535528",
     "exception": false,
     "start_time": "2022-09-14T12:53:47.521956",
     "status": "completed"
    },
    "tags": []
   },
   "outputs": [],
   "source": [
    "# step_4.hint()\n",
    "# step_4.solution()"
   ]
  },
  {
   "cell_type": "markdown",
   "id": "992dd252",
   "metadata": {
    "papermill": {
     "duration": 0.005316,
     "end_time": "2022-09-14T12:53:47.546425",
     "exception": false,
     "start_time": "2022-09-14T12:53:47.541109",
     "status": "completed"
    },
    "tags": []
   },
   "source": [
    "Is that MAE good?  There isn't a general rule for what values are good that applies across applications. But you'll see how to use (and improve) this number in the next step.\n",
    "\n",
    "# Keep Going\n",
    "\n",
    "You are ready for **[Underfitting and Overfitting](https://www.kaggle.com/dansbecker/underfitting-and-overfitting).**\n"
   ]
  },
  {
   "cell_type": "markdown",
   "id": "c7acacf7",
   "metadata": {
    "papermill": {
     "duration": 0.005271,
     "end_time": "2022-09-14T12:53:47.558407",
     "exception": false,
     "start_time": "2022-09-14T12:53:47.553136",
     "status": "completed"
    },
    "tags": []
   },
   "source": [
    "---\n",
    "\n",
    "\n",
    "\n",
    "\n",
    "*Have questions or comments? Visit the [course discussion forum](https://www.kaggle.com/learn/intro-to-machine-learning/discussion) to chat with other learners.*"
   ]
  }
 ],
 "metadata": {
  "kernelspec": {
   "display_name": "Python 3",
   "language": "python",
   "name": "python3"
  },
  "language_info": {
   "codemirror_mode": {
    "name": "ipython",
    "version": 3
   },
   "file_extension": ".py",
   "mimetype": "text/x-python",
   "name": "python",
   "nbconvert_exporter": "python",
   "pygments_lexer": "ipython3",
   "version": "3.7.12"
  },
  "papermill": {
   "default_parameters": {},
   "duration": 11.738721,
   "end_time": "2022-09-14T12:53:48.286026",
   "environment_variables": {},
   "exception": null,
   "input_path": "__notebook__.ipynb",
   "output_path": "__notebook__.ipynb",
   "parameters": {},
   "start_time": "2022-09-14T12:53:36.547305",
   "version": "2.3.4"
  }
 },
 "nbformat": 4,
 "nbformat_minor": 5
}
