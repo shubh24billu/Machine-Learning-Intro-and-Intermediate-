{
 "cells": [
  {
   "cell_type": "markdown",
   "id": "c6962161",
   "metadata": {
    "papermill": {
     "duration": 0.004766,
     "end_time": "2022-09-14T13:45:40.884029",
     "exception": false,
     "start_time": "2022-09-14T13:45:40.879263",
     "status": "completed"
    },
    "tags": []
   },
   "source": [
    "**This notebook is an exercise in the [Introduction to Machine Learning](https://www.kaggle.com/learn/intro-to-machine-learning) course.  You can reference the tutorial at [this link](https://www.kaggle.com/dansbecker/underfitting-and-overfitting).**\n",
    "\n",
    "---\n"
   ]
  },
  {
   "cell_type": "markdown",
   "id": "97879528",
   "metadata": {
    "papermill": {
     "duration": 0.003317,
     "end_time": "2022-09-14T13:45:40.891285",
     "exception": false,
     "start_time": "2022-09-14T13:45:40.887968",
     "status": "completed"
    },
    "tags": []
   },
   "source": [
    "## Recap\n",
    "You've built your first model, and now it's time to optimize the size of the tree to make better predictions. Run this cell to set up your coding environment where the previous step left off."
   ]
  },
  {
   "cell_type": "code",
   "execution_count": 1,
   "id": "b0797449",
   "metadata": {
    "execution": {
     "iopub.execute_input": "2022-09-14T13:45:40.900830Z",
     "iopub.status.busy": "2022-09-14T13:45:40.900107Z",
     "iopub.status.idle": "2022-09-14T13:45:42.459237Z",
     "shell.execute_reply": "2022-09-14T13:45:42.457702Z"
    },
    "papermill": {
     "duration": 1.567862,
     "end_time": "2022-09-14T13:45:42.462682",
     "exception": false,
     "start_time": "2022-09-14T13:45:40.894820",
     "status": "completed"
    },
    "tags": []
   },
   "outputs": [
    {
     "name": "stdout",
     "output_type": "stream",
     "text": [
      "Validation MAE: 29,653\n",
      "\n",
      "Setup complete\n"
     ]
    }
   ],
   "source": [
    "# Code you have previously used to load data\n",
    "import pandas as pd\n",
    "from sklearn.metrics import mean_absolute_error\n",
    "from sklearn.model_selection import train_test_split\n",
    "from sklearn.tree import DecisionTreeRegressor\n",
    "\n",
    "\n",
    "# Path of the file to read\n",
    "iowa_file_path = '../input/home-data-for-ml-course/train.csv'\n",
    "\n",
    "home_data = pd.read_csv(iowa_file_path)\n",
    "# Create target object and call it y\n",
    "y = home_data.SalePrice\n",
    "# Create X\n",
    "features = ['LotArea', 'YearBuilt', '1stFlrSF', '2ndFlrSF', 'FullBath', 'BedroomAbvGr', 'TotRmsAbvGrd']\n",
    "X = home_data[features]\n",
    "\n",
    "# Split into validation and training data\n",
    "train_X, val_X, train_y, val_y = train_test_split(X, y, random_state=1)\n",
    "\n",
    "# Specify Model\n",
    "iowa_model = DecisionTreeRegressor(random_state=1)\n",
    "# Fit Model\n",
    "iowa_model.fit(train_X, train_y)\n",
    "\n",
    "# Make validation predictions and calculate mean absolute error\n",
    "val_predictions = iowa_model.predict(val_X)\n",
    "val_mae = mean_absolute_error(val_predictions, val_y)\n",
    "print(\"Validation MAE: {:,.0f}\".format(val_mae))\n",
    "\n",
    "# Set up code checking\n",
    "from learntools.core import binder\n",
    "binder.bind(globals())\n",
    "from learntools.machine_learning.ex5 import *\n",
    "print(\"\\nSetup complete\")"
   ]
  },
  {
   "cell_type": "markdown",
   "id": "c7a65292",
   "metadata": {
    "papermill": {
     "duration": 0.003611,
     "end_time": "2022-09-14T13:45:42.470943",
     "exception": false,
     "start_time": "2022-09-14T13:45:42.467332",
     "status": "completed"
    },
    "tags": []
   },
   "source": [
    "# Exercises\n",
    "You could write the function `get_mae` yourself. For now, we'll supply it. This is the same function you read about in the previous lesson. Just run the cell below."
   ]
  },
  {
   "cell_type": "code",
   "execution_count": 2,
   "id": "5353e25e",
   "metadata": {
    "execution": {
     "iopub.execute_input": "2022-09-14T13:45:42.480157Z",
     "iopub.status.busy": "2022-09-14T13:45:42.479725Z",
     "iopub.status.idle": "2022-09-14T13:45:42.485888Z",
     "shell.execute_reply": "2022-09-14T13:45:42.484955Z"
    },
    "papermill": {
     "duration": 0.013372,
     "end_time": "2022-09-14T13:45:42.488074",
     "exception": false,
     "start_time": "2022-09-14T13:45:42.474702",
     "status": "completed"
    },
    "tags": []
   },
   "outputs": [],
   "source": [
    "def get_mae(max_leaf_nodes, train_X, val_X, train_y, val_y):\n",
    "    model = DecisionTreeRegressor(max_leaf_nodes=max_leaf_nodes, random_state=0)\n",
    "    model.fit(train_X, train_y)\n",
    "    preds_val = model.predict(val_X)\n",
    "    mae = mean_absolute_error(val_y, preds_val)\n",
    "    return(mae)"
   ]
  },
  {
   "cell_type": "markdown",
   "id": "57b16c46",
   "metadata": {
    "papermill": {
     "duration": 0.003497,
     "end_time": "2022-09-14T13:45:42.495514",
     "exception": false,
     "start_time": "2022-09-14T13:45:42.492017",
     "status": "completed"
    },
    "tags": []
   },
   "source": [
    "## Step 1: Compare Different Tree Sizes\n",
    "Write a loop that tries the following values for *max_leaf_nodes* from a set of possible values.\n",
    "\n",
    "Call the *get_mae* function on each value of max_leaf_nodes. Store the output in some way that allows you to select the value of `max_leaf_nodes` that gives the most accurate model on your data."
   ]
  },
  {
   "cell_type": "code",
   "execution_count": 3,
   "id": "a9b37915",
   "metadata": {
    "execution": {
     "iopub.execute_input": "2022-09-14T13:45:42.504984Z",
     "iopub.status.busy": "2022-09-14T13:45:42.504532Z",
     "iopub.status.idle": "2022-09-14T13:45:42.556788Z",
     "shell.execute_reply": "2022-09-14T13:45:42.555643Z"
    },
    "papermill": {
     "duration": 0.060434,
     "end_time": "2022-09-14T13:45:42.559768",
     "exception": false,
     "start_time": "2022-09-14T13:45:42.499334",
     "status": "completed"
    },
    "tags": []
   },
   "outputs": [
    {
     "data": {
      "application/javascript": [
       "parent.postMessage({\"jupyterEvent\": \"custom.exercise_interaction\", \"data\": {\"outcomeType\": 1, \"valueTowardsCompletion\": 0.5, \"interactionType\": 1, \"questionType\": 1, \"questionId\": \"1_BestTreeSize\", \"learnToolsVersion\": \"0.3.4\", \"failureMessage\": \"\", \"exceptionClass\": \"\", \"trace\": \"\"}}, \"*\")"
      ],
      "text/plain": [
       "<IPython.core.display.Javascript object>"
      ]
     },
     "metadata": {},
     "output_type": "display_data"
    },
    {
     "data": {
      "text/markdown": [
       "<span style=\"color:#33cc33\">Correct</span>"
      ],
      "text/plain": [
       "Correct"
      ]
     },
     "metadata": {},
     "output_type": "display_data"
    }
   ],
   "source": [
    "candidate_max_leaf_nodes = [5, 25, 50, 100, 250, 500]\n",
    "# Write loop to find the ideal tree size from candidate_max_leaf_nodes\n",
    "scores = {leaf_size: get_mae(leaf_size, train_X, val_X, train_y, val_y) for leaf_size in \n",
    "          candidate_max_leaf_nodes}\n",
    "# Store the best value of max_leaf_nodes (it will be either 5, 25, 50, 100, 250 or 500)\n",
    "best_tree_size = min(scores, key=scores.get)\n",
    "# Check your answer\n",
    "step_1.check()"
   ]
  },
  {
   "cell_type": "code",
   "execution_count": 4,
   "id": "f3d323d7",
   "metadata": {
    "execution": {
     "iopub.execute_input": "2022-09-14T13:45:42.569908Z",
     "iopub.status.busy": "2022-09-14T13:45:42.569460Z",
     "iopub.status.idle": "2022-09-14T13:45:42.573817Z",
     "shell.execute_reply": "2022-09-14T13:45:42.572837Z"
    },
    "papermill": {
     "duration": 0.012024,
     "end_time": "2022-09-14T13:45:42.576079",
     "exception": false,
     "start_time": "2022-09-14T13:45:42.564055",
     "status": "completed"
    },
    "tags": []
   },
   "outputs": [],
   "source": [
    "# The lines below will show you a hint or the solution.\n",
    "# step_1.hint() \n",
    "#step_1.solution()"
   ]
  },
  {
   "cell_type": "code",
   "execution_count": 5,
   "id": "867442b3",
   "metadata": {
    "execution": {
     "iopub.execute_input": "2022-09-14T13:45:42.586537Z",
     "iopub.status.busy": "2022-09-14T13:45:42.585892Z",
     "iopub.status.idle": "2022-09-14T13:45:42.591708Z",
     "shell.execute_reply": "2022-09-14T13:45:42.590866Z"
    },
    "papermill": {
     "duration": 0.013658,
     "end_time": "2022-09-14T13:45:42.593908",
     "exception": false,
     "start_time": "2022-09-14T13:45:42.580250",
     "status": "completed"
    },
    "tags": []
   },
   "outputs": [
    {
     "data": {
      "text/plain": [
       "100"
      ]
     },
     "execution_count": 5,
     "metadata": {},
     "output_type": "execute_result"
    }
   ],
   "source": [
    "best_tree_size\n"
   ]
  },
  {
   "cell_type": "markdown",
   "id": "d609aa05",
   "metadata": {
    "papermill": {
     "duration": 0.003894,
     "end_time": "2022-09-14T13:45:42.602104",
     "exception": false,
     "start_time": "2022-09-14T13:45:42.598210",
     "status": "completed"
    },
    "tags": []
   },
   "source": [
    "## Step 2: Fit Model Using All Data\n",
    "You know the best tree size. If you were going to deploy this model in practice, you would make it even more accurate by using all of the data and keeping that tree size.  That is, you don't need to hold out the validation data now that you've made all your modeling decisions."
   ]
  },
  {
   "cell_type": "code",
   "execution_count": 6,
   "id": "1972dd48",
   "metadata": {
    "execution": {
     "iopub.execute_input": "2022-09-14T13:45:42.612776Z",
     "iopub.status.busy": "2022-09-14T13:45:42.612039Z",
     "iopub.status.idle": "2022-09-14T13:45:42.629172Z",
     "shell.execute_reply": "2022-09-14T13:45:42.628122Z"
    },
    "papermill": {
     "duration": 0.025339,
     "end_time": "2022-09-14T13:45:42.631686",
     "exception": false,
     "start_time": "2022-09-14T13:45:42.606347",
     "status": "completed"
    },
    "tags": []
   },
   "outputs": [
    {
     "data": {
      "application/javascript": [
       "parent.postMessage({\"jupyterEvent\": \"custom.exercise_interaction\", \"data\": {\"outcomeType\": 1, \"valueTowardsCompletion\": 0.5, \"interactionType\": 1, \"questionType\": 2, \"questionId\": \"2_FitModelWithAllData\", \"learnToolsVersion\": \"0.3.4\", \"failureMessage\": \"\", \"exceptionClass\": \"\", \"trace\": \"\"}}, \"*\")"
      ],
      "text/plain": [
       "<IPython.core.display.Javascript object>"
      ]
     },
     "metadata": {},
     "output_type": "display_data"
    },
    {
     "data": {
      "text/markdown": [
       "<span style=\"color:#33cc33\">Correct</span>"
      ],
      "text/plain": [
       "Correct"
      ]
     },
     "metadata": {},
     "output_type": "display_data"
    }
   ],
   "source": [
    "# Fill in argument to make optimal size and uncomment\n",
    "final_model = DecisionTreeRegressor(random_state=1,max_leaf_nodes=best_tree_size)\n",
    "\n",
    "# fit the final model and uncomment the next two lines\n",
    "final_model.fit(X, y)\n",
    "\n",
    "# Check your answer\n",
    "step_2.check()"
   ]
  },
  {
   "cell_type": "code",
   "execution_count": 7,
   "id": "cbd7dadd",
   "metadata": {
    "execution": {
     "iopub.execute_input": "2022-09-14T13:45:42.642899Z",
     "iopub.status.busy": "2022-09-14T13:45:42.642145Z",
     "iopub.status.idle": "2022-09-14T13:45:42.646552Z",
     "shell.execute_reply": "2022-09-14T13:45:42.645583Z"
    },
    "papermill": {
     "duration": 0.012383,
     "end_time": "2022-09-14T13:45:42.648731",
     "exception": false,
     "start_time": "2022-09-14T13:45:42.636348",
     "status": "completed"
    },
    "tags": []
   },
   "outputs": [],
   "source": [
    "# step_2.hint()\n",
    "# step_2.solution()"
   ]
  },
  {
   "cell_type": "markdown",
   "id": "83b1fde1",
   "metadata": {
    "papermill": {
     "duration": 0.004094,
     "end_time": "2022-09-14T13:45:42.657325",
     "exception": false,
     "start_time": "2022-09-14T13:45:42.653231",
     "status": "completed"
    },
    "tags": []
   },
   "source": [
    "You've tuned this model and improved your results. But we are still using Decision Tree models, which are not very sophisticated by modern machine learning standards. In the next step you will learn to use Random Forests to improve your models even more.\n",
    "\n",
    "# Keep Going\n",
    "\n",
    "You are ready for **[Random Forests](https://www.kaggle.com/dansbecker/random-forests).**\n"
   ]
  },
  {
   "cell_type": "markdown",
   "id": "0e0b20f7",
   "metadata": {
    "papermill": {
     "duration": 0.004118,
     "end_time": "2022-09-14T13:45:42.665797",
     "exception": false,
     "start_time": "2022-09-14T13:45:42.661679",
     "status": "completed"
    },
    "tags": []
   },
   "source": [
    "---\n",
    "\n",
    "\n",
    "\n",
    "\n",
    "*Have questions or comments? Visit the [course discussion forum](https://www.kaggle.com/learn/intro-to-machine-learning/discussion) to chat with other learners.*"
   ]
  }
 ],
 "metadata": {
  "kernelspec": {
   "display_name": "Python 3",
   "language": "python",
   "name": "python3"
  },
  "language_info": {
   "codemirror_mode": {
    "name": "ipython",
    "version": 3
   },
   "file_extension": ".py",
   "mimetype": "text/x-python",
   "name": "python",
   "nbconvert_exporter": "python",
   "pygments_lexer": "ipython3",
   "version": "3.7.12"
  },
  "papermill": {
   "default_parameters": {},
   "duration": 12.429792,
   "end_time": "2022-09-14T13:45:43.392659",
   "environment_variables": {},
   "exception": null,
   "input_path": "__notebook__.ipynb",
   "output_path": "__notebook__.ipynb",
   "parameters": {},
   "start_time": "2022-09-14T13:45:30.962867",
   "version": "2.3.4"
  }
 },
 "nbformat": 4,
 "nbformat_minor": 5
}
